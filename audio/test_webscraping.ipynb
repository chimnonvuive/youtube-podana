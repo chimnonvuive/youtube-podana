{
 "cells": [
  {
   "cell_type": "code",
   "execution_count": 1,
   "id": "17bb5503",
   "metadata": {},
   "outputs": [],
   "source": [
    "import requests\n",
    "from bs4 import BeautifulSoup\n",
    "from asyncpraw import Reddit\n",
    "from asyncpraw.models import MoreComments"
   ]
  },
  {
   "cell_type": "code",
   "execution_count": 2,
   "id": "cfac9816",
   "metadata": {},
   "outputs": [],
   "source": [
    "podcast_review_URL = \"https://www.reddit.com/r/AskReddit/comments/12j384c/whats_a_podcast_actually_worth_listening_to/\"\n",
    "page = requests.get(podcast_review_URL)\n",
    "soup = BeautifulSoup(page.content, \"html.parser\")"
   ]
  },
  {
   "cell_type": "code",
   "execution_count": 3,
   "id": "91e43224",
   "metadata": {},
   "outputs": [],
   "source": [
    "reddit = Reddit(\n",
    "    client_id='KHsQ7GRko4pqIhL4OWJ3dg',\n",
    "    client_secret='RhKQhm8gxiRCQjkZbM-enqCdFIFDFg',\n",
    "    password=\"Công dân gương mẫu ngây thơ trong sáng mà :$ \",\n",
    "    user_agent='testscript by u/Dickbuttatemyass',\n",
    "    username=\"Dickbuttatemyass\"\n",
    ")\n",
    "\n",
    "submission = await reddit.submission(url=podcast_review_URL)\n",
    "#comments = await submission.comments()\n",
    "\n",
    "#for top_level_comment in comments:\n",
    "#    if isinstance(top_level_comment, MoreComments):\n",
    "#        continue\n",
    "#    print(top_level_comment.body)\n",
    "\n",
    "#comments.replace_more(limit=None)\n",
    "#all_comments = await comments.list()\n",
    "#for comment in all_comments:\n",
    "#    print(comment.body)\n",
    "\n"
   ]
  },
  {
   "cell_type": "code",
   "execution_count": 4,
   "id": "8897d933",
   "metadata": {},
   "outputs": [
    {
     "ename": "CancelledError",
     "evalue": "",
     "output_type": "error",
     "traceback": [
      "Traceback \u001b[1;36m(most recent call last)\u001b[0m:\n",
      "\u001b[0m  Cell \u001b[0;32mIn[4], line 2\u001b[0m\n    await comments.replace_more(limit=None)\u001b[0m\n",
      "\u001b[0m  File \u001b[0;32m~\\anaconda3\\lib\\site-packages\\asyncpraw\\util\\deprecate_args.py:51\u001b[0m in \u001b[0;35mwrapped\u001b[0m\n    return await _wrapper(*args, **kwargs)\u001b[0m\n",
      "\u001b[0m  File \u001b[0;32m~\\anaconda3\\lib\\site-packages\\asyncpraw\\models\\comment_forest.py:252\u001b[0m in \u001b[0;35mreplace_more\u001b[0m\n    new_comments = await item.comments(update=False)\u001b[0m\n",
      "\u001b[0m  File \u001b[0;32m~\\anaconda3\\lib\\site-packages\\asyncpraw\\util\\deprecate_args.py:51\u001b[0m in \u001b[0;35mwrapped\u001b[0m\n    return await _wrapper(*args, **kwargs)\u001b[0m\n",
      "\u001b[0m  File \u001b[0;32m~\\anaconda3\\lib\\site-packages\\asyncpraw\\models\\reddit\\more.py:78\u001b[0m in \u001b[0;35mcomments\u001b[0m\n    self._comments = await self._reddit.post(\u001b[0m\n",
      "\u001b[0m  File \u001b[0;32m~\\anaconda3\\lib\\site-packages\\asyncpraw\\util\\deprecate_args.py:51\u001b[0m in \u001b[0;35mwrapped\u001b[0m\n    return await _wrapper(*args, **kwargs)\u001b[0m\n",
      "\u001b[0m  File \u001b[0;32m~\\anaconda3\\lib\\site-packages\\asyncpraw\\reddit.py:920\u001b[0m in \u001b[0;35mpost\u001b[0m\n    return await self._objectify_request(\u001b[0m\n",
      "\u001b[0m  File \u001b[0;32m~\\anaconda3\\lib\\site-packages\\asyncpraw\\reddit.py:567\u001b[0m in \u001b[0;35m_objectify_request\u001b[0m\n    await self.request(\u001b[0m\n",
      "\u001b[0m  File \u001b[0;32m~\\anaconda3\\lib\\site-packages\\asyncpraw\\util\\deprecate_args.py:51\u001b[0m in \u001b[0;35mwrapped\u001b[0m\n    return await _wrapper(*args, **kwargs)\u001b[0m\n",
      "\u001b[0m  File \u001b[0;32m~\\anaconda3\\lib\\site-packages\\asyncpraw\\reddit.py:1032\u001b[0m in \u001b[0;35mrequest\u001b[0m\n    return await self._core.request(\u001b[0m\n",
      "\u001b[0m  File \u001b[0;32m~\\anaconda3\\lib\\site-packages\\asyncprawcore\\sessions.py:370\u001b[0m in \u001b[0;35mrequest\u001b[0m\n    return await self._request_with_retries(\u001b[0m\n",
      "\u001b[0m  File \u001b[0;32m~\\anaconda3\\lib\\site-packages\\asyncprawcore\\sessions.py:270\u001b[0m in \u001b[0;35m_request_with_retries\u001b[0m\n    response, saved_exception = await self._make_request(\u001b[0m\n",
      "\u001b[0m  File \u001b[0;32m~\\anaconda3\\lib\\site-packages\\asyncprawcore\\sessions.py:187\u001b[0m in \u001b[0;35m_make_request\u001b[0m\n    response = await self._rate_limiter.call(\u001b[0m\n",
      "\u001b[0m  File \u001b[0;32m~\\anaconda3\\lib\\site-packages\\asyncprawcore\\rate_limit.py:35\u001b[0m in \u001b[0;35mcall\u001b[0m\n    response = await request_function(*args, **kwargs)\u001b[0m\n",
      "\u001b[0m  File \u001b[0;32m~\\anaconda3\\lib\\site-packages\\asyncprawcore\\requestor.py:64\u001b[0m in \u001b[0;35mrequest\u001b[0m\n    return await self._http.request(\u001b[0m\n",
      "\u001b[0m  File \u001b[0;32m~\\anaconda3\\lib\\site-packages\\aiohttp\\client.py:560\u001b[0m in \u001b[0;35m_request\u001b[0m\n    await resp.start(conn)\u001b[0m\n",
      "\u001b[0m  File \u001b[0;32m~\\anaconda3\\lib\\site-packages\\aiohttp\\client_reqrep.py:899\u001b[0m in \u001b[0;35mstart\u001b[0m\n    message, payload = await protocol.read()  # type: ignore[union-attr]\u001b[0m\n",
      "\u001b[1;36m  File \u001b[1;32m~\\anaconda3\\lib\\site-packages\\aiohttp\\streams.py:616\u001b[1;36m in \u001b[1;35mread\u001b[1;36m\n\u001b[1;33m    await self._waiter\u001b[1;36m\n",
      "\u001b[1;31mCancelledError\u001b[0m\n"
     ]
    }
   ],
   "source": [
    "comments = await submission.comments()\n",
    "await comments.replace_more(limit=None)\n",
    "comment_queue = comments[:]  # Seed with top-level\n",
    "while comment_queue:\n",
    "    comment = comment_queue.pop(0)\n",
    "    print(comment.body)\n",
    "    comment_queue.extend(comment.replies)"
   ]
  },
  {
   "cell_type": "code",
   "execution_count": null,
   "id": "b1c5d8e7",
   "metadata": {},
   "outputs": [],
   "source": [
    "results = soup.find(id=r\"comment\")\n",
    "results"
   ]
  },
  {
   "cell_type": "code",
   "execution_count": null,
   "id": "0d06ad4b",
   "metadata": {},
   "outputs": [],
   "source": [
    "dir(subreddit)"
   ]
  },
  {
   "cell_type": "code",
   "execution_count": null,
   "id": "78abcb76",
   "metadata": {},
   "outputs": [],
   "source": [
    "soup.find_all('a', class_='comments may-blank', href=True)"
   ]
  }
 ],
 "metadata": {
  "kernelspec": {
   "display_name": "Python 3 (Spyder)",
   "language": "python3",
   "name": "python3"
  },
  "language_info": {
   "codemirror_mode": {
    "name": "ipython",
    "version": 3
   },
   "file_extension": ".py",
   "mimetype": "text/x-python",
   "name": "python",
   "nbconvert_exporter": "python",
   "pygments_lexer": "ipython3",
   "version": "3.9.16"
  }
 },
 "nbformat": 4,
 "nbformat_minor": 5
}
