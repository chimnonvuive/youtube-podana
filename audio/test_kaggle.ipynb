{
 "cells": [
  {
   "cell_type": "markdown",
   "id": "954a647b",
   "metadata": {},
   "source": [
    "# Run Kaggle dataset"
   ]
  },
  {
   "cell_type": "code",
   "execution_count": 3,
   "id": "5946d9dd",
   "metadata": {},
   "outputs": [],
   "source": [
    "from kaggle.api.kaggle_api_extended import KaggleApi\n",
    "import numpy as np\n"
   ]
  },
  {
   "cell_type": "code",
   "execution_count": 6,
   "id": "85dbc205",
   "metadata": {},
   "outputs": [],
   "source": [
    "data_api = KaggleApi('kaggle datasets download -d roman6335/13000-itunes-podcasts-april-2018')\n",
    "data_api.authenticate()\n",
    "files = api.competition_download_files(\"two-sigma-financial-news\")"
   ]
  }
 ],
 "metadata": {
  "kernelspec": {
   "display_name": "Python 3 (Spyder)",
   "language": "python3",
   "name": "python3"
  },
  "language_info": {
   "codemirror_mode": {
    "name": "ipython",
    "version": 3
   },
   "file_extension": ".py",
   "mimetype": "text/x-python",
   "name": "python",
   "nbconvert_exporter": "python",
   "pygments_lexer": "ipython3",
   "version": "3.9.16"
  }
 },
 "nbformat": 4,
 "nbformat_minor": 5
}
